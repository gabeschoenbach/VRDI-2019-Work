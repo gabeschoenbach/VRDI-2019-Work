{
 "cells": [
  {
   "cell_type": "code",
   "execution_count": 1,
   "metadata": {},
   "outputs": [],
   "source": [
    "import os\n",
    "from functools import partial\n",
    "import json\n",
    "\n",
    "import geopandas as gpd\n",
    "import matplotlib.pyplot as plt\n",
    "import networkx as nx\n",
    "import pandas as pd\n",
    "import numpy as np\n",
    "from tqdm import tqdm_notebook\n",
    "\n",
    "from gerrychain import (\n",
    "    Election,\n",
    "    Graph,\n",
    "    MarkovChain,\n",
    "    Partition,\n",
    "    accept,\n",
    "    constraints,\n",
    "    updaters,\n",
    ")\n",
    "\n",
    "from gerrychain.metrics import efficiency_gap, mean_median\n",
    "from gerrychain.proposals import recom\n",
    "from gerrychain.updaters import cut_edges\n",
    "from gerrychain.tree import recursive_tree_part"
   ]
  },
  {
   "cell_type": "code",
   "execution_count": 2,
   "metadata": {},
   "outputs": [],
   "source": [
    "graph_path = \"../nevada/BG32.json\"\n",
    "graph = Graph.from_json(graph_path)\n",
    "with open (graph_path, \"r\") as myfile:\n",
    "    data=myfile.readlines()\n",
    "graph_dict = json.loads(data[0])"
   ]
  },
  {
   "cell_type": "code",
   "execution_count": 68,
   "metadata": {},
   "outputs": [],
   "source": [
    "num_dist = 4\n",
    "\n",
    "# Exercise: Compute exact population from your data.\n",
    "pop = 2700551\n",
    "\n",
    "my_updaters = {\n",
    "    \"population\": updaters.Tally(\"TOTPOP\", alias=\"population\"),\n",
    "    \"cut_edges\": cut_edges,\n",
    "    \"hvap\": updaters.Tally(\"HVAP\", alias=\"hvap\"),\n",
    "    \"vap\": updaters.Tally(\"VAP\", alias=\"vap\"),\n",
    "    \"wvap\": updaters.Tally(\"WVAP\", alias=\"wvap\"),\n",
    "    \"nh_white\": updaters.Tally(\"NH_WHITE\", alias=\"nh_white\"),\n",
    "    \"hisp\": updaters.Tally(\"HISP\", alias=\"hisp\"),\n",
    "}\n",
    "\n",
    "new_plan = recursive_tree_part(graph,\n",
    "                               range(num_dist),\n",
    "                               pop/num_dist,\n",
    "                               \"TOTPOP\",\n",
    "                               0.05,\n",
    "                               1)\n",
    "initial_partition = Partition(graph,\n",
    "                              new_plan,\n",
    "                              my_updaters)"
   ]
  },
  {
   "cell_type": "code",
   "execution_count": 70,
   "metadata": {},
   "outputs": [
    {
     "name": "stdout",
     "output_type": "stream",
     "text": [
      "Non-Hispanic White %: 0.5414009955746069\n",
      "Hispanic %: 0.2653165965019731\n"
     ]
    }
   ],
   "source": [
    "graph.nodes[0]\n",
    "VAP = 0\n",
    "WVAP = 0\n",
    "BVAP = 0\n",
    "HVAP = 0\n",
    "AMINVAP = 0\n",
    "NHPIVAP = 0\n",
    "ASIANVAP = 0\n",
    "TOTPOP = 0\n",
    "NH_WHITE = 0\n",
    "HISP = 0\n",
    "\n",
    "for node in graph.nodes:\n",
    "    VAP += graph.nodes[node][\"VAP\"]\n",
    "    WVAP += graph.nodes[node][\"WVAP\"]\n",
    "    BVAP += graph.nodes[node][\"BVAP\"]\n",
    "    HVAP += graph.nodes[node][\"HVAP\"]\n",
    "    AMINVAP += graph.nodes[node][\"AMINVAP\"]\n",
    "    NHPIVAP += graph.nodes[node][\"NHPIVAP\"]\n",
    "    ASIANVAP += graph.nodes[node][\"ASIANVAP\"]\n",
    "    TOTPOP += graph.nodes[node][\"TOTPOP\"]\n",
    "    NH_WHITE += graph.nodes[node][\"NH_WHITE\"]\n",
    "    HISP += graph.nodes[node][\"HISP\"]\n",
    "    \n",
    "WVAP_Pct = WVAP / VAP\n",
    "HVAP_Pct = HVAP / VAP\n",
    "BVAP_Pct = BVAP / VAP\n",
    "NH_WHITE_Pct = NH_WHITE / TOTPOP\n",
    "HISP_Pct = HISP / TOTPOP\n",
    "\n",
    "print(\"Non-Hispanic White %:\", NH_WHITE_Pct)\n",
    "print(\"Hispanic %:\", HISP_Pct)"
   ]
  },
  {
   "cell_type": "code",
   "execution_count": 4,
   "metadata": {},
   "outputs": [],
   "source": [
    "proposal = partial(recom,\n",
    "                   pop_col = \"TOTPOP\",\n",
    "                   pop_target = pop/num_dist,\n",
    "                   epsilon = 0.05,\n",
    "                   node_repeats = 3)\n",
    "\n",
    "compactness_bound = constraints.UpperBound(\n",
    "    lambda p: len(p[\"cut_edges\"]), 2 * len(initial_partition[\"cut_edges\"])\n",
    ")"
   ]
  },
  {
   "cell_type": "code",
   "execution_count": 153,
   "metadata": {},
   "outputs": [],
   "source": [
    "chain = MarkovChain(\n",
    "    proposal=proposal,\n",
    "    constraints=[\n",
    "        constraints.within_percent_of_ideal_population(initial_partition, 0.1),\n",
    "        compactness_bound,\n",
    "    ],\n",
    "    accept=accept.always_accept,\n",
    "    initial_state=initial_partition,\n",
    "    total_steps=100000,\n",
    ")"
   ]
  },
  {
   "cell_type": "code",
   "execution_count": 154,
   "metadata": {
    "scrolled": true
   },
   "outputs": [
    {
     "data": {
      "application/vnd.jupyter.widget-view+json": {
       "model_id": "9cbd21c372ae43bd8379081ecac76977",
       "version_major": 2,
       "version_minor": 0
      },
      "text/plain": [
       "HBox(children=(IntProgress(value=0, max=100000), HTML(value='')))"
      ]
     },
     "metadata": {},
     "output_type": "display_data"
    },
    {
     "name": "stdout",
     "output_type": "stream",
     "text": [
      "CPU times: user 5h 55min 6s, sys: 2min 15s, total: 5h 57min 21s\n",
      "Wall time: 5h 57min 45s\n"
     ]
    }
   ],
   "source": [
    "%%time\n",
    "nh_white_pop = []\n",
    "hisp_pop = []\n",
    "pop = []\n",
    "\n",
    "for step in tqdm_notebook(chain):\n",
    "    nh_white_pop.append(list(step[\"nh_white\"].values()))\n",
    "    hisp_pop.append(list(step[\"hisp\"].values()))\n",
    "    pop.append(list(step[\"population\"].values()))"
   ]
  },
  {
   "cell_type": "code",
   "execution_count": 185,
   "metadata": {},
   "outputs": [
    {
     "name": "stdout",
     "output_type": "stream",
     "text": [
      "CPU times: user 3.39 s, sys: 57.4 ms, total: 3.44 s\n",
      "Wall time: 3.51 s\n"
     ]
    }
   ],
   "source": [
    "%%time\n",
    "data_white = pd.DataFrame([sorted(list(np.divide(nh_white_pop[i], pop[i]))) for i in range(len(pop))])\n",
    "data_hisp = pd.DataFrame([sorted(list(np.divide(hisp_pop[i], pop[i]))) for i in range(len(pop))])\n",
    "data_minority = pd.DataFrame([sorted(list(np.divide(list(np.subtract(pop[i],nh_white_pop[i])), pop[i]))) for i in range(len(pop))])"
   ]
  },
  {
   "cell_type": "code",
   "execution_count": 188,
   "metadata": {},
   "outputs": [
    {
     "data": {
      "image/png": "[encoded data removed]",
      "text/plain": [
       "<Figure size 576x432 with 1 Axes>"
      ]
     },
     "metadata": {
      "needs_background": "light"
     },
     "output_type": "display_data"
    }
   ],
   "source": [
    "fig, ax = plt.subplots(figsize=(8, 6))\n",
    "\n",
    "# Draw lines for percentages of certain races\n",
    "# ax.axhline(1-NH_WHITE_Pct, color=\"purple\", ls=\"--\", label=\"Overall % Minority\")\n",
    "# ax.axhline(HISP_Pct, color=\"lightblue\", ls=\"--\", label=\"Overall Hispanic %\")\n",
    "ax.axhline(0.37, color=\"lightblue\", ls=\"--\", label=\"Opportunity Bounds\")\n",
    "ax.axhline(0.52, color=\"lightblue\", ls=\"--\")\n",
    "\n",
    "\n",
    "# Draw boxplot\n",
    "# data_hisp.boxplot(ax=ax, positions=range(len(data_hisp.columns)), whis=[1,99], showfliers=False)\n",
    "data_minority.boxplot(ax=ax, positions=range(len(data_minority.columns)), whis=[1,99], showfliers=False)\n",
    "\n",
    "# Current Plans\n",
    "# HVAP_Pct_real = [.154,.211,.302,.429]\n",
    "# WVAP_Pct_real = [.229,.602,.610,.680]\n",
    "minority_Pct_real = [1-.680, 1-.610,1-.602,1-.229]\n",
    "\n",
    "# Changing the y-axis range\n",
    "ax.set_ylim(0,1)\n",
    "\n",
    "# Plot points of actual HVAP_Pct in current plan\n",
    "# ax.plot([0,1,2,3],HVAP_Pct_real, 'o', color=\"blue\", label=\"Current Plan\" markersize=5)\n",
    "# ax.plot([0,1,2,3],WVAP_Pct_real, 'o', color=\"orange\", label=\"Current Plan\", markersize=5)\n",
    "ax.plot([0,1,2,3],minority_Pct_real, 'o', color=\"purple\", label=\"Current Plan\", markersize=5)\n",
    "\n",
    "# Annotate\n",
    "ax.set_title(\"Minority Representation in NV Districts\")\n",
    "ax.set_ylabel(\"% Minority Population\")\n",
    "ax.set_xlabel(\"District # (sorted by % Minority Population)\")\n",
    "ax.legend(loc=\"best\")\n",
    "\n",
    "plt.show()"
   ]
  },
  {
   "cell_type": "code",
   "execution_count": 180,
   "metadata": {},
   "outputs": [
    {
     "data": {
      "image/png": "[encoded data removed]",
      "text/plain": [
       "<Figure size 576x432 with 1 Axes>"
      ]
     },
     "metadata": {
      "needs_background": "light"
     },
     "output_type": "display_data"
    }
   ],
   "source": [
    "fig, ax = plt.subplots(figsize=(8, 6))\n",
    "\n",
    "# Draw lines for percetanges of certain races\n",
    "ax.axhline(NH_WHITE_Pct, color=\"#ffaf72\", ls=\"--\", label=\"Overall % White\")\n",
    "# ax.axhline(HISP_Pct, color=\"lightblue\", ls=\"--\", label=\"Overall Hispanic %\")\n",
    "\n",
    "# Draw boxplot\n",
    "# data_hisp.boxplot(ax=ax, positions=range(len(data_hisp.columns)), whis=[1,99], showfliers=False)\n",
    "data_white.boxplot(ax=ax, positions=range(len(data_white.columns)), whis=[1,99], showfliers=False)\n",
    "\n",
    "# Current Plans\n",
    "# HVAP_Pct_real = [.154,.211,.302,.429]\n",
    "WVAP_Pct_real = [.229,.602,.610,.680]\n",
    "\n",
    "# Changing the y-axis range\n",
    "ax.set_ylim(0,1)\n",
    "\n",
    "# Plot points of actual HVAP_Pct in current plan\n",
    "# ax.plot([0,1,2,3],HVAP_Pct_real, 'o', color=\"blue\", label=\"Current Plan\" markersize=5)\n",
    "ax.plot([0,1,2,3],WVAP_Pct_real, 'o', color=\"orange\", label=\"Current Plan\", markersize=5)\n",
    "\n",
    "# Annotate\n",
    "ax.set_title(\"White Representation in NV Districts\")\n",
    "ax.set_ylabel(\"% White Population\")\n",
    "ax.set_xlabel(\"District # (sorted by % White Population)\")\n",
    "ax.legend(loc=\"best\")\n",
    "\n",
    "plt.show()"
   ]
  },
  {
   "cell_type": "code",
   "execution_count": 179,
   "metadata": {},
   "outputs": [
    {
     "data": {
      "image/png": "[encoded data removed]",
      "text/plain": [
       "<Figure size 576x432 with 1 Axes>"
      ]
     },
     "metadata": {
      "needs_background": "light"
     },
     "output_type": "display_data"
    }
   ],
   "source": [
    "fig, ax = plt.subplots(figsize=(8, 6))\n",
    "\n",
    "# Draw lines for percetanges of certain races\n",
    "# ax.axhline(NH_WHITE_Pct, color=\"#ffaf72\", ls=\"--\", label=\"Overall White %\")\n",
    "ax.axhline(HISP_Pct, color=\"lightblue\", ls=\"--\", label=\"Overall % Hispanic\")\n",
    "\n",
    "# Draw boxplot\n",
    "data_hisp.boxplot(ax=ax, positions=range(len(data_hisp.columns)), whis=[1,99], showfliers=False)\n",
    "# data_white.boxplot(ax=ax, positions=range(len(data_white.columns)), whis=[1,99], showfliers=False)\n",
    "\n",
    "# Current Plans\n",
    "HVAP_Pct_real = [.154,.211,.302,.429]\n",
    "# WVAP_Pct_real = [.229,.602,.610,.680]\n",
    "\n",
    "# Changing the y-axis range\n",
    "ax.set_ylim(0,1)\n",
    "\n",
    "# Plot points of actual HVAP_Pct in current plan\n",
    "ax.plot([0,1,2,3],HVAP_Pct_real, 'o', color=\"blue\", label=\"Current Plan\", markersize=5)\n",
    "# ax.plot([0,1,2,3],WVAP_Pct_real, 'o', color=\"orange\", label=\"Current Plan\", markersize=5)\n",
    "\n",
    "# Annotate\n",
    "ax.set_title(\"Hispanic Representation in NV Districts\")\n",
    "ax.set_ylabel(\"% Hispanic Population\")\n",
    "ax.set_xlabel(\"District # (sorted by % Hispanic Population)\")\n",
    "ax.legend(loc=\"best\")\n",
    "\n",
    "plt.show()"
   ]
  },
  {
   "cell_type": "code",
   "execution_count": null,
   "metadata": {},
   "outputs": [],
   "source": []
  }
 ],
 "metadata": {
  "kernelspec": {
   "display_name": "Python 3",
   "language": "python",
   "name": "python3"
  },
  "language_info": {
   "codemirror_mode": {
    "name": "ipython",
    "version": 3
   },
   "file_extension": ".py",
   "mimetype": "text/x-python",
   "name": "python",
   "nbconvert_exporter": "python",
   "pygments_lexer": "ipython3",
   "version": "3.7.3"
  }
 },
 "nbformat": 4,
 "nbformat_minor": 2
}
