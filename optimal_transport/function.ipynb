{
 "cells": [
  {
   "cell_type": "code",
   "execution_count": 1,
   "metadata": {},
   "outputs": [],
   "source": [
    "import cvxpy as cp\n",
    "import numpy as np\n",
    "import networkx as nx\n",
    "import scipy as sp\n",
    "\n",
    "from scipy.sparse.csgraph import floyd_warshall\n",
    "from scipy.sparse import csr_matrix, csc_matrix\n",
    "\n",
    "import os\n",
    "from functools import partial\n",
    "import json\n",
    "\n",
    "import geopandas as gpd\n",
    "import matplotlib.pyplot as plt\n",
    "import networkx as nx\n",
    "import pandas as pd\n",
    "import numpy as np\n",
    "from tqdm import tqdm_notebook\n",
    "\n",
    "from gerrychain import (\n",
    "    Election,\n",
    "    Graph,\n",
    "    MarkovChain,\n",
    "    Partition,\n",
    "    accept,\n",
    "    constraints,\n",
    "    updaters,\n",
    ")\n",
    "\n",
    "from gerrychain.metrics import efficiency_gap, mean_median, partisan_gini\n",
    "from gerrychain.proposals import recom\n",
    "from gerrychain.updaters import cut_edges\n",
    "from gerrychain.tree import recursive_tree_part"
   ]
  },
  {
   "cell_type": "code",
   "execution_count": 37,
   "metadata": {},
   "outputs": [],
   "source": [
    "def compute_districts_distance(state, num_dists, dist_id, plan1, plan2):\n",
    "    graph_path = \"./\" + state + \".json\"\n",
    "    graph = Graph.from_json(graph_path)\n",
    "    \n",
    "    for node in graph.nodes(data=True):\n",
    "        node[1][plan1] = np.random.randint(1,num_dists+1)\n",
    "        node[1][plan2] = np.random.randint(1,num_dists+1)\n",
    "    \n",
    "    x = [0 for i in range(len(graph.nodes()))]\n",
    "    y = [0 for i in range(len(graph.nodes()))]\n",
    "    \n",
    "    for node in graph.nodes(data=True):\n",
    "        if node[1][plan1] == dist_id:\n",
    "            x[node[0]] = 1\n",
    "        if node[1][plan2] == dist_id:\n",
    "            y[node[0]] = 1\n",
    "            \n",
    "    x = np.divide(np.array(x), np.sum(x))\n",
    "    x = np.reshape(x,(len(x),1))\n",
    "    y = np.divide(np.array(y), np.sum(y))\n",
    "    y = np.reshape(y,(len(y),1))\n",
    "    \n",
    "    P = nx.incidence_matrix(graph, oriented=True)\n",
    "    J = cp.Variable((len(graph.edges),1))\n",
    "\n",
    "    constraints = [P@J == x-y]\n",
    "\n",
    "    objective = cp.Minimize(cp.sum(cp.abs(J)))\n",
    "\n",
    "    prob = cp.Problem(objective, constraints)\n",
    "    prob.solve(verbose=False, solver=\"ECOS\")\n",
    "    print(\"status:\", prob.status)\n",
    "    print(\"optimal value\", prob.value)\n",
    "#     print(\"optimal var\", J.value)\n",
    "    return P"
   ]
  },
  {
   "cell_type": "code",
   "execution_count": 40,
   "metadata": {
    "scrolled": true
   },
   "outputs": [
    {
     "name": "stdout",
     "output_type": "stream",
     "text": [
      "status: optimal\n",
      "optimal value 2.757201645855703\n",
      "CPU times: user 432 ms, sys: 125 ms, total: 557 ms\n",
      "Wall time: 647 ms\n"
     ]
    }
   ],
   "source": [
    "%%time\n",
    "P = compute_districts_distance(\"northcarolina\", 13, 6, \"plan1\", \"plan2\")"
   ]
  },
  {
   "cell_type": "code",
   "execution_count": 46,
   "metadata": {},
   "outputs": [
    {
     "data": {
      "text/plain": [
       "scipy.sparse.csc.csc_matrix"
      ]
     },
     "execution_count": 46,
     "metadata": {},
     "output_type": "execute_result"
    }
   ],
   "source": [
    "sparse = nx.incidence_matrix(graph, oriented=True)\n",
    "type(sparse)"
   ]
  },
  {
   "cell_type": "code",
   "execution_count": 48,
   "metadata": {},
   "outputs": [
    {
     "data": {
      "image/png": "[encoded data removed]",
      "text/plain": [
       "<Figure size 432x288 with 1 Axes>"
      ]
     },
     "metadata": {
      "needs_background": "light"
     },
     "output_type": "display_data"
    }
   ],
   "source": [
    "plt.spy(sparse)\n",
    "plt.title(\"Sparse Matrix\");"
   ]
  },
  {
   "cell_type": "code",
   "execution_count": null,
   "metadata": {},
   "outputs": [],
   "source": []
  }
 ],
 "metadata": {
  "kernelspec": {
   "display_name": "Python 3",
   "language": "python",
   "name": "python3"
  },
  "language_info": {
   "codemirror_mode": {
    "name": "ipython",
    "version": 3
   },
   "file_extension": ".py",
   "mimetype": "text/x-python",
   "name": "python",
   "nbconvert_exporter": "python",
   "pygments_lexer": "ipython3",
   "version": "3.7.3"
  }
 },
 "nbformat": 4,
 "nbformat_minor": 2
}
