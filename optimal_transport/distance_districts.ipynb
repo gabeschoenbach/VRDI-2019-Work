{
 "cells": [
  {
   "cell_type": "code",
   "execution_count": 2,
   "metadata": {},
   "outputs": [],
   "source": [
    "import cvxpy as cp\n",
    "import numpy as np\n",
    "import networkx as nx\n",
    "import scipy as sp\n",
    "\n",
    "from scipy.sparse.csgraph import floyd_warshall\n",
    "from scipy.sparse import csr_matrix, csc_matrix\n",
    "\n",
    "import os\n",
    "from functools import partial\n",
    "import json\n",
    "\n",
    "import geopandas as gpd\n",
    "import matplotlib.pyplot as plt\n",
    "import networkx as nx\n",
    "import pandas as pd\n",
    "import numpy as np\n",
    "from tqdm import tqdm_notebook\n",
    "\n",
    "from gerrychain import (\n",
    "    Election,\n",
    "    Graph,\n",
    "    MarkovChain,\n",
    "    Partition,\n",
    "    accept,\n",
    "    constraints,\n",
    "    updaters,\n",
    ")\n",
    "\n",
    "from gerrychain.metrics import efficiency_gap, mean_median, partisan_gini\n",
    "from gerrychain.proposals import recom\n",
    "from gerrychain.updaters import cut_edges\n",
    "from gerrychain.tree import recursive_tree_part"
   ]
  },
  {
   "cell_type": "code",
   "execution_count": 193,
   "metadata": {
    "scrolled": true
   },
   "outputs": [],
   "source": [
    "# graph_path = \"./georgia.json\"\n",
    "# graph = Graph.from_json(graph_path)\n",
    "# with open (graph_path, \"r\") as myfile:\n",
    "#     data=myfile.readlines()\n",
    "# graph_dict = json.loads(data[0])"
   ]
  },
  {
   "cell_type": "code",
   "execution_count": null,
   "metadata": {},
   "outputs": [],
   "source": [
    "populations = [a, b, c, d]\n",
    "weights = [w1, w2, w3, w4, w5, w6]"
   ]
  },
  {
   "cell_type": "code",
   "execution_count": 4,
   "metadata": {},
   "outputs": [],
   "source": [
    "graph = nx.complete_graph(4)"
   ]
  },
  {
   "cell_type": "code",
   "execution_count": 6,
   "metadata": {
    "scrolled": true
   },
   "outputs": [
    {
     "data": {
      "image/png": "[encoded data removed]",
      "text/plain": [
       "<Figure size 432x288 with 1 Axes>"
      ]
     },
     "metadata": {},
     "output_type": "display_data"
    }
   ],
   "source": [
    "nx.draw_kamada_kawai(graph)"
   ]
  },
  {
   "cell_type": "code",
   "execution_count": 16,
   "metadata": {},
   "outputs": [
    {
     "data": {
      "text/plain": [
       "<networkx.classes.graph.Graph at 0x1021cbe5f8>"
      ]
     },
     "execution_count": 16,
     "metadata": {},
     "output_type": "execute_result"
    }
   ],
   "source": [
    "nx.convert_node_labels_to_integers(graph)"
   ]
  },
  {
   "cell_type": "code",
   "execution_count": 17,
   "metadata": {},
   "outputs": [
    {
     "name": "stdout",
     "output_type": "stream",
     "text": [
      "[0, 1, 2, 3]\n",
      "[(0, 1), (0, 2), (0, 3), (1, 2), (1, 3), (2, 3)]\n"
     ]
    }
   ],
   "source": [
    "print(list(graph.nodes))\n",
    "print(list(graph.edges))"
   ]
  },
  {
   "cell_type": "code",
   "execution_count": 18,
   "metadata": {},
   "outputs": [
    {
     "data": {
      "text/plain": [
       "{}"
      ]
     },
     "execution_count": 18,
     "metadata": {},
     "output_type": "execute_result"
    }
   ],
   "source": [
    "for n in graph.nodes:\n",
    "    "
   ]
  },
  {
   "cell_type": "code",
   "execution_count": 202,
   "metadata": {},
   "outputs": [],
   "source": [
    "x = [0 for i in range(len(graph.nodes()))]\n",
    "y = [0 for i in range(len(graph.nodes()))]\n",
    "\n",
    "for node in graph.nodes(data=True):\n",
    "    if node[1][\"district\"] == 4:\n",
    "        x[node[0]] = 1\n",
    "    if node[1][\"district\"] == 5:\n",
    "        y[node[0]] = 1"
   ]
  },
  {
   "cell_type": "code",
   "execution_count": 215,
   "metadata": {},
   "outputs": [],
   "source": [
    "x = np.divide(np.array(x), np.sum(x))\n",
    "y = np.divide(np.array(y), np.sum(y))\n",
    "\n",
    "x = np.reshape(x,(len(x),1))\n",
    "y = np.reshape(y,(len(y),1))"
   ]
  },
  {
   "cell_type": "code",
   "execution_count": 222,
   "metadata": {},
   "outputs": [
    {
     "name": "stdout",
     "output_type": "stream",
     "text": [
      "status: optimal\n",
      "optimal value 3.2675587820703424\n",
      "optimal var [[ 5.44258354e-14]\n",
      " [ 8.45808730e-14]\n",
      " [-4.07169216e-13]\n",
      " ...\n",
      " [ 5.95252491e-13]\n",
      " [-9.58427222e-13]\n",
      " [ 1.07658486e-12]]\n"
     ]
    }
   ],
   "source": [
    "P = nx.incidence_matrix(graph, oriented=True)\n",
    "\n",
    "J = cp.Variable((len(graph.edges),1))\n",
    "\n",
    "constraints = [P @ J == x-y]\n",
    "\n",
    "objective = cp.Minimize(cp.sum(cp.abs(J)))\n",
    "\n",
    "prob = cp.Problem(objective, constraints)\n",
    "prob.solve(verbose=False, solver=\"ECOS\")\n",
    "print(\"status:\", prob.status)\n",
    "print(\"optimal value\", prob.value)\n",
    "print(\"optimal var\", J.value)"
   ]
  },
  {
   "cell_type": "code",
   "execution_count": null,
   "metadata": {},
   "outputs": [],
   "source": [
    "# Given x and y, two n-length vectors that add to 1,\n",
    "# where n is the number of nodes in our dual graph.\n",
    "\n",
    "x = (0,0,0.5,0.5)\n",
    "y = (1,0,0,0)\n",
    "\n",
    "x = np.array(x)\n",
    "y = np.array(y)\n",
    "\n",
    "x = np.reshape(x,(len(x),1))\n",
    "y = np.reshape(y,(len(y),1))\n",
    "\n",
    "T = cp.Variable((4,4))\n",
    "\n",
    "col_sums = cp.sum(T, axis=0) # Should have size (n,)\n",
    "row_sums = cp.sum(T, axis=1) # Should have size (n,)\n",
    "\n",
    "constraints = [T >= 0]\n",
    "\n",
    "for i in range(len(x)):\n",
    "    constraints.append(row_sums[i] == x[i])\n",
    "    constraints.append(col_sums[i] == y[i])\n",
    "\n",
    "objective = cp.Minimize(cvxpy.sum(cvxpy.multiply(T,dist_matrix)))\n",
    "\n",
    "prob = cp.Problem(objective, constraints)\n",
    "prob.solve(verbose=False, solver=\"ECOS\")\n",
    "print(\"status:\", prob.status)\n",
    "print(\"optimal value\", prob.value)\n",
    "print(\"optimal var\", T.value)"
   ]
  },
  {
   "cell_type": "code",
   "execution_count": null,
   "metadata": {},
   "outputs": [],
   "source": []
  }
 ],
 "metadata": {
  "kernelspec": {
   "display_name": "Python 3",
   "language": "python",
   "name": "python3"
  },
  "language_info": {
   "codemirror_mode": {
    "name": "ipython",
    "version": 3
   },
   "file_extension": ".py",
   "mimetype": "text/x-python",
   "name": "python",
   "nbconvert_exporter": "python",
   "pygments_lexer": "ipython3",
   "version": "3.7.3"
  }
 },
 "nbformat": 4,
 "nbformat_minor": 2
}
