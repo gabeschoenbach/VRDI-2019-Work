{
 "cells": [
  {
   "cell_type": "markdown",
   "metadata": {},
   "source": [
    "# Imports"
   ]
  },
  {
   "cell_type": "code",
   "execution_count": 1,
   "metadata": {},
   "outputs": [],
   "source": [
    "import os\n",
    "from functools import partial\n",
    "import json\n",
    "\n",
    "import geopandas as gpd\n",
    "import matplotlib.pyplot as plt; plt.style.use(\"ggplot\")\n",
    "import networkx as nx\n",
    "import pandas as pd\n",
    "import numpy as np\n",
    "from tqdm import tqdm_notebook\n",
    "import seaborn as sns\n",
    "import xml.etree.ElementTree as ET\n",
    "import csv\n",
    "\n",
    "from gerrychain import (\n",
    "    Election,\n",
    "    Graph,\n",
    "    MarkovChain,\n",
    "    Partition,\n",
    "    accept,\n",
    "    constraints,\n",
    "    updaters,\n",
    ")\n",
    "\n",
    "from gerrychain.metrics import efficiency_gap, mean_median, partisan_gini\n",
    "from gerrychain.proposals import recom\n",
    "from gerrychain.updaters import cut_edges\n",
    "from gerrychain.tree import recursive_tree_part\n",
    "from io import BytesIO"
   ]
  },
  {
   "cell_type": "markdown",
   "metadata": {},
   "source": [
    "# Downloading state data"
   ]
  },
  {
   "cell_type": "code",
   "execution_count": 218,
   "metadata": {},
   "outputs": [],
   "source": [
    "graph_path = \"./pennsylvania.json\"\n",
    "graph = Graph.from_json(graph_path)\n",
    "with open (graph_path, \"r\") as myfile:\n",
    "    data=myfile.readlines()\n",
    "graph_dict = json.loads(data[0])"
   ]
  },
  {
   "cell_type": "code",
   "execution_count": 2,
   "metadata": {},
   "outputs": [],
   "source": [
    "va_graph_path = \"./virginia.json\"\n",
    "va_graph = Graph.from_json(va_graph_path)\n",
    "with open (va_graph_path, \"r\") as myfile:\n",
    "    data=myfile.readlines()\n",
    "va_graph_dict = json.loads(data[0])"
   ]
  },
  {
   "cell_type": "code",
   "execution_count": 3,
   "metadata": {},
   "outputs": [],
   "source": [
    "newdir = \"./VA_Outputs/\"\n",
    "os.makedirs(os.path.dirname(newdir + \"init.txt\"), exist_ok=True)\n",
    "with open(newdir + \"init.txt\", \"w\") as f:\n",
    "    f.write(\"Created Folder\")"
   ]
  },
  {
   "cell_type": "markdown",
   "metadata": {},
   "source": [
    "# Chain stuff"
   ]
  },
  {
   "cell_type": "code",
   "execution_count": 13,
   "metadata": {},
   "outputs": [],
   "source": [
    "for node in va_graph.nodes:\n",
    "    va_graph.nodes[node][\"G18DSEN\"] = float(va_graph.nodes[node][\"G18DSEN\"])\n",
    "    va_graph.nodes[node][\"G18RSEN\"] = float(va_graph.nodes[node][\"G18RSEN\"])"
   ]
  },
  {
   "cell_type": "code",
   "execution_count": 18,
   "metadata": {},
   "outputs": [
    {
     "data": {
      "text/plain": [
       "{'boundary_node': False,\n",
       " 'area': 6734812.159403288,\n",
       " 'precinct': 'Buckland Mills',\n",
       " 'locality': 'Prince William County',\n",
       " 'loc_prec': 'Prince William County Buckland Mills',\n",
       " 'district': 'Congressional District 1',\n",
       " 'G18DHOR': '938.0',\n",
       " 'G18DSEN': 978.0,\n",
       " 'G18OHOR': '0.0',\n",
       " 'G18OSEN': '31.0',\n",
       " 'G18RHOR': '766.0',\n",
       " 'G18RSEN': 701.0,\n",
       " 'G17DGOV': '656.0',\n",
       " 'G17DLTG': '654.0',\n",
       " 'G17DATG': '647.0',\n",
       " 'G17DHOD': '601.0',\n",
       " 'G17RGOV': '596.0',\n",
       " 'G17RLTG': '603.0',\n",
       " 'G17RATG': '609.0',\n",
       " 'G17RHOD': '644.0',\n",
       " 'G17OHOD': '0.0',\n",
       " 'G17OGOV': '11.0',\n",
       " 'G16DPRS': '1007.0',\n",
       " 'G16RPRS': '807.0',\n",
       " 'G16OPRS': '78.0',\n",
       " 'G16DHOR': '920.0',\n",
       " 'G16RHOR': '932.0',\n",
       " 'G16OHOR': '11.0',\n",
       " 'TOTPOP': 3818.000030694916,\n",
       " 'NH_WHITE': 2133.0000203970503,\n",
       " 'NH_BLACK': 405.00000532001286,\n",
       " 'NH_AMIN': 8.000000063845132,\n",
       " 'NH_ASIAN': 643.0000026063219,\n",
       " 'NH_NHPI': 1.19045652e-07,\n",
       " 'NH_OTHER': 9.999999864060221,\n",
       " 'NH_2MORE': 150.00000134425977,\n",
       " 'HISP': 469.00000098032007,\n",
       " 'H_WHITE': 265.0000008445269,\n",
       " 'H_BLACK': 11.999999973685549,\n",
       " 'H_AMN': 9.999999890204844,\n",
       " 'H_ASIAN': 1.000000035764004,\n",
       " 'H_NHPI': 0.0,\n",
       " 'H_OTHER': 141.00000007304027,\n",
       " 'H_2MORE': 40.00000016309857,\n",
       " 'VAP': 2675.000021103948,\n",
       " 'HVAP': 313.00000010565316,\n",
       " 'WVAP': 1539.0000143615173,\n",
       " 'BVAP': 288.00000389230337,\n",
       " 'AMINVAP': 7.000000063845132,\n",
       " 'ASIANVAP': 449.00000226253565,\n",
       " 'NHPIVAP': 1.19045652e-07,\n",
       " 'OTHERVAP': 5.999999938494868,\n",
       " '2MOREVAP': 73.00000036055302,\n",
       " 'CD_12': 1.0,\n",
       " 'CD_16': 1.0,\n",
       " 'HDIST_11': '13',\n",
       " 'HDIST_REM': '13',\n",
       " 'SENDIST': '13'}"
      ]
     },
     "execution_count": 18,
     "metadata": {},
     "output_type": "execute_result"
    }
   ],
   "source": [
    "va_graph.nodes[1]"
   ]
  },
  {
   "cell_type": "code",
   "execution_count": 120,
   "metadata": {
    "scrolled": true
   },
   "outputs": [
    {
     "name": "stdout",
     "output_type": "stream",
     "text": [
      "12684929\n"
     ]
    }
   ],
   "source": [
    "pop_count = 0\n",
    "\n",
    "for i in graph.nodes:\n",
    "    pop_count += graph.nodes[i][\"TOT_POP\"]\n",
    "    \n",
    "print(pop_count)"
   ]
  },
  {
   "cell_type": "code",
   "execution_count": 19,
   "metadata": {},
   "outputs": [
    {
     "name": "stdout",
     "output_type": "stream",
     "text": [
      "8001023.999569645\n"
     ]
    }
   ],
   "source": [
    "va_pop_count = 0\n",
    "\n",
    "for i in va_graph.nodes:\n",
    "    va_pop_count += va_graph.nodes[i][\"TOTPOP\"]\n",
    "    \n",
    "print(va_pop_count)"
   ]
  },
  {
   "cell_type": "code",
   "execution_count": 127,
   "metadata": {},
   "outputs": [
    {
     "name": "stdout",
     "output_type": "stream",
     "text": [
      "CPU times: user 15.2 s, sys: 375 ms, total: 15.6 s\n",
      "Wall time: 16.2 s\n"
     ]
    }
   ],
   "source": [
    "%%time\n",
    "num_dist = 18\n",
    "\n",
    "# Exercise: Compute exact population from your data.\n",
    "pop = pop_count\n",
    "\n",
    "my_updaters = {\n",
    "    \"population\": updaters.Tally(\"TOT_POP\", alias=\"population\"),\n",
    "    \"cut_edges\": cut_edges,\n",
    "    \"SEN16\": Election(\"SEN16\", {\"democratic\":\"T16SEND\",\"republican\":\"T16SENR\"}),\n",
    "}\n",
    "\n",
    "\n",
    "new_plan = recursive_tree_part(graph,\n",
    "                               range(num_dist),\n",
    "                               pop/num_dist,\n",
    "                               \"TOT_POP\",\n",
    "                               0.01,\n",
    "                               3)\n",
    "initial_partition = Partition(graph,\n",
    "                              new_plan,\n",
    "                              my_updaters)"
   ]
  },
  {
   "cell_type": "code",
   "execution_count": 20,
   "metadata": {},
   "outputs": [
    {
     "name": "stdout",
     "output_type": "stream",
     "text": [
      "CPU times: user 3.71 s, sys: 70.9 ms, total: 3.78 s\n",
      "Wall time: 3.93 s\n"
     ]
    }
   ],
   "source": [
    "%%time\n",
    "va_num_dist = 11\n",
    "\n",
    "# Exercise: Compute exact population from your data.\n",
    "va_pop = va_pop_count\n",
    "\n",
    "va_my_updaters = {\n",
    "    \"population\": updaters.Tally(\"TOTPOP\", alias=\"population\"),\n",
    "    \"cut_edges\": cut_edges,\n",
    "    \"SEN18\": Election(\"SEN18\", {\"democratic\":\"G18DSEN\",\"republican\":\"G18RSEN\"}),\n",
    "}\n",
    "\n",
    "\n",
    "va_new_plan = recursive_tree_part(va_graph,\n",
    "                               range(va_num_dist),\n",
    "                               va_pop/va_num_dist,\n",
    "                               \"TOTPOP\",\n",
    "                               0.01,\n",
    "                               3)\n",
    "va_initial_partition = Partition(va_graph,\n",
    "                              va_new_plan,\n",
    "                              va_my_updaters)"
   ]
  },
  {
   "cell_type": "code",
   "execution_count": 128,
   "metadata": {},
   "outputs": [
    {
     "name": "stdout",
     "output_type": "stream",
     "text": [
      "CPU times: user 110 ms, sys: 3.72 ms, total: 114 ms\n",
      "Wall time: 120 ms\n"
     ]
    }
   ],
   "source": [
    "%%time\n",
    "proposal = partial(recom,\n",
    "                   pop_col = \"TOT_POP\",\n",
    "                   pop_target = pop/num_dist,\n",
    "                   epsilon = 0.05,\n",
    "                   node_repeats = 3)\n",
    "\n",
    "compactness_bound = constraints.UpperBound(\n",
    "    lambda p: len(p[\"cut_edges\"]), 2 * len(initial_partition[\"cut_edges\"])\n",
    ")"
   ]
  },
  {
   "cell_type": "code",
   "execution_count": 21,
   "metadata": {},
   "outputs": [
    {
     "name": "stdout",
     "output_type": "stream",
     "text": [
      "CPU times: user 23.5 ms, sys: 681 µs, total: 24.2 ms\n",
      "Wall time: 23.8 ms\n"
     ]
    }
   ],
   "source": [
    "%%time\n",
    "va_proposal = partial(recom,\n",
    "                   pop_col = \"TOTPOP\",\n",
    "                   pop_target = va_pop/va_num_dist,\n",
    "                   epsilon = 0.05,\n",
    "                   node_repeats = 3)\n",
    "\n",
    "va_compactness_bound = constraints.UpperBound(\n",
    "    lambda p: len(p[\"cut_edges\"]), 2 * len(va_initial_partition[\"cut_edges\"])\n",
    ")"
   ]
  },
  {
   "cell_type": "code",
   "execution_count": 148,
   "metadata": {},
   "outputs": [
    {
     "name": "stdout",
     "output_type": "stream",
     "text": [
      "CPU times: user 49 µs, sys: 1 µs, total: 50 µs\n",
      "Wall time: 55.1 µs\n"
     ]
    }
   ],
   "source": [
    "%%time\n",
    "chain = MarkovChain(\n",
    "    proposal=proposal,\n",
    "    constraints=[\n",
    "        constraints.within_percent_of_ideal_population(initial_partition, 0.03),\n",
    "        compactness_bound,\n",
    "    ],\n",
    "    accept=accept.always_accept,\n",
    "    initial_state=initial_partition,\n",
    "    total_steps=1000,\n",
    ")"
   ]
  },
  {
   "cell_type": "code",
   "execution_count": 22,
   "metadata": {},
   "outputs": [
    {
     "name": "stdout",
     "output_type": "stream",
     "text": [
      "CPU times: user 7.19 ms, sys: 58 µs, total: 7.24 ms\n",
      "Wall time: 7.21 ms\n"
     ]
    }
   ],
   "source": [
    "%%time\n",
    "va_chain = MarkovChain(\n",
    "    proposal=va_proposal,\n",
    "    constraints=[\n",
    "        constraints.within_percent_of_ideal_population(va_initial_partition, 0.05),\n",
    "        va_compactness_bound,\n",
    "    ],\n",
    "    accept=accept.always_accept,\n",
    "    initial_state=va_initial_partition,\n",
    "    total_steps=10000,\n",
    ")"
   ]
  },
  {
   "cell_type": "code",
   "execution_count": 16,
   "metadata": {
    "scrolled": false
   },
   "outputs": [
    {
     "ename": "NameError",
     "evalue": "name 'chain' is not defined",
     "output_type": "error",
     "traceback": [
      "\u001b[0;31m---------------------------------------------------------------------------\u001b[0m",
      "\u001b[0;31mNameError\u001b[0m                                 Traceback (most recent call last)",
      "\u001b[0;32m<timed exec>\u001b[0m in \u001b[0;36m<module>\u001b[0;34m\u001b[0m\n",
      "\u001b[0;31mNameError\u001b[0m: name 'chain' is not defined"
     ]
    }
   ],
   "source": [
    "%%time\n",
    "\n",
    "mms = []\n",
    "egs = []\n",
    "pgs = []\n",
    "ces = []\n",
    "seats = []\n",
    "\n",
    "for step in tqdm_notebook(chain):\n",
    "    mms.append(mean_median(step[\"SEN16\"]))\n",
    "    egs.append(efficiency_gap(step[\"SEN16\"]))\n",
    "    pgs.append(partisan_gini(step[\"SEN16\"]))\n",
    "    ces.append(len(step[\"cut_edges\"]))\n",
    "    seats.append(step[\"SEN16\"].wins(\"republican\"))"
   ]
  },
  {
   "cell_type": "code",
   "execution_count": 23,
   "metadata": {
    "scrolled": true
   },
   "outputs": [
    {
     "data": {
      "application/vnd.jupyter.widget-view+json": {
       "model_id": "38a500a6cdb14ea0bf1d3318a093ed82",
       "version_major": 2,
       "version_minor": 0
      },
      "text/plain": [
       "HBox(children=(IntProgress(value=0, max=10000), HTML(value='')))"
      ]
     },
     "metadata": {},
     "output_type": "display_data"
    },
    {
     "name": "stdout",
     "output_type": "stream",
     "text": [
      "\n",
      "CPU times: user 36min 23s, sys: 14.7 s, total: 36min 38s\n",
      "Wall time: 40min 40s\n"
     ]
    }
   ],
   "source": [
    "%%time\n",
    "\n",
    "va_mms = []\n",
    "va_egs = []\n",
    "va_pgs = []\n",
    "va_ces = []\n",
    "va_seats = []\n",
    "\n",
    "\n",
    "for step in tqdm_notebook(va_chain):\n",
    "    va_mms.append(mean_median(step[\"SEN18\"]))\n",
    "    va_egs.append(efficiency_gap(step[\"SEN18\"]))\n",
    "    va_pgs.append(partisan_gini(step[\"SEN18\"]))\n",
    "    va_ces.append(len(step[\"cut_edges\"]))\n",
    "    seats.append(step[\"SEN18\"].wins(\"republican\"))"
   ]
  },
  {
   "cell_type": "code",
   "execution_count": 29,
   "metadata": {},
   "outputs": [
    {
     "data": {
      "text/plain": [
       "3"
      ]
     },
     "execution_count": 29,
     "metadata": {},
     "output_type": "execute_result"
    }
   ],
   "source": [
    "va_initial_partition[\"SEN18\"].wins(\"republican\")"
   ]
  },
  {
   "cell_type": "code",
   "execution_count": 24,
   "metadata": {},
   "outputs": [],
   "source": [
    "# with open(newdir + \"PAmms\" + \".csv\", \"w\") as tf1:\n",
    "#     tf1.writelines(str(i) + \"\\n\" for i in mms)\n",
    "\n",
    "# with open(newdir + \"PAegs\"+ \".csv\", \"w\") as tf1:\n",
    "#     tf1.writelines(str(j) + \"\\n\" for j in egs)\n",
    "    \n",
    "# with open(newdir + \"PApgs\" + \".csv\", \"w\") as tf1:\n",
    "#     tf1.writelines(str(i) + \"\\n\" for i in pgs)\n",
    "\n",
    "# with open(newdir + \"PAces\"+ \".csv\", \"w\") as tf1:\n",
    "#     tf1.writelines(str(j) + \"\\n\" for j in ces)\n",
    "    \n",
    "# with open(newdir + \"PAseats\"+ \".csv\", \"w\") as tf1:\n",
    "#     tf1.writelines(str(j) + \"\\n\" for j in seats)\n",
    "    \n",
    "with open(newdir + \"VAmms\" + \".csv\", \"w\") as tf1:\n",
    "    tf1.writelines(str(i) + \"\\n\" for i in va_mms)\n",
    "\n",
    "with open(newdir + \"VAegs\"+ \".csv\", \"w\") as tf1:\n",
    "    tf1.writelines(str(j) + \"\\n\" for j in va_egs)\n",
    "    \n",
    "with open(newdir + \"VApgs\" + \".csv\", \"w\") as tf1:\n",
    "    tf1.writelines(str(i) + \"\\n\" for i in va_pgs)\n",
    "\n",
    "with open(newdir + \"VAces\"+ \".csv\", \"w\") as tf1:\n",
    "    tf1.writelines(str(j) + \"\\n\" for j in va_ces)\n",
    "    \n",
    "with open(newdir + \"VAseats\"+ \".csv\", \"w\") as tf1:\n",
    "    tf1.writelines(str(j) + \"\\n\" for j in va_seats)"
   ]
  },
  {
   "cell_type": "code",
   "execution_count": 271,
   "metadata": {},
   "outputs": [],
   "source": [
    "def save_with_pretty_fonts(filename):\n",
    "    # Fix fonts\n",
    "    # See https://matplotlib.org/3.1.0/gallery/user_interfaces/svg_histogram_sgskip.html\n",
    "    buf = BytesIO()\n",
    "    plt.savefig(buf, transparent=True, bbox_inches='tight', format='svg')\n",
    "\n",
    "    ET.register_namespace('', 'http://www.w3.org/2000/svg')\n",
    "    tree, xmlid = ET.XMLID(buf.getvalue())\n",
    "\n",
    "    text_ids = []\n",
    "    for elem in tree.iter('{http://www.w3.org/2000/svg}g'):\n",
    "        if 'id' in elem.attrib:\n",
    "            if elem.attrib['id'].startswith('text_'):\n",
    "                for text in elem.iter('{http://www.w3.org/2000/svg}text'):\n",
    "                    if 'style' in text.attrib:\n",
    "                        text.attrib['style'] = 'text-anchor:middle;font-family:-apple-system,BlinkMacSystemFont,\"Segoe UI\",Roboto,\"Helvetica Neue\",Arial,\"Noto Sans\",sans-serif,\"Apple Color Emoji\",\"Segoe UI Emoji\",\"Segoe UI Symbol\",\"Noto Color Emoji\";font-size:0.7em;color:#6c757d'\n",
    "    ET.ElementTree(tree).write(filename)\n",
    "    plt.close()"
   ]
  },
  {
   "cell_type": "markdown",
   "metadata": {},
   "source": [
    "# Visualization"
   ]
  },
  {
   "cell_type": "code",
   "execution_count": 284,
   "metadata": {
    "scrolled": false
   },
   "outputs": [],
   "source": [
    "# Pennsylvania Median Median scores\n",
    "\n",
    "plt.rcParams[\"svg.fonttype\"] = \"none\"\n",
    "fig, ax = plt.subplots(1)\n",
    "sns.distplot(mms, bins=40, color=\"#4b89b9\", ax=ax, kde=False)\n",
    "ax.set_yticklabels([])\n",
    "ax.axvline(x=-0.068, color=\"red\")\n",
    "ax.yaxis.set_visible(False)\n",
    "ax.grid(False)\n",
    "#plt.xlabel(\"Mean-Median Score\")\n",
    "#plt.ylabel(\"Frequency\")\n",
    "save_with_pretty_fonts('pa_mm.svg')"
   ]
  },
  {
   "cell_type": "code",
   "execution_count": 285,
   "metadata": {},
   "outputs": [],
   "source": [
    "# Pennsylvania vs. Virginia Mean Median Scores\n",
    "\n",
    "plt.rcParams[\"svg.fonttype\"] = \"none\"\n",
    "fig, ax = plt.subplots(1)\n",
    "sns.distplot(mms, bins=40, color=\"#4b89b9\", ax=ax, kde=False, label=\"PA — SEN16\")\n",
    "sns.distplot(va_mms, bins=40, color=\"#d2553e\", ax=ax, kde=False, label=\"VA — SEN18\")\n",
    "ax.set_yticklabels([])\n",
    "ax.yaxis.set_visible(False)\n",
    "ax.grid(False)\n",
    "# ax.legend(loc=\"upper left\")\n",
    "#plt.xlabel(\"Mean-Median Score\")\n",
    "#plt.ylabel(\"Frequency\")\n",
    "save_with_pretty_fonts('pa_vs_va_mm.svg')"
   ]
  },
  {
   "cell_type": "code",
   "execution_count": 286,
   "metadata": {
    "scrolled": true
   },
   "outputs": [],
   "source": [
    "# Pennsylvania Efficiency Gap Scores\n",
    "\n",
    "plt.rcParams[\"svg.fonttype\"] = \"none\"\n",
    "fig, ax = plt.subplots(1)\n",
    "sns.distplot(egs, bins=40, color=\"#4b89b9\", ax=ax, kde=False)\n",
    "ax.set_yticklabels([])\n",
    "ax.axvline(x=-0.04, color=\"red\")\n",
    "ax.yaxis.set_visible(False)\n",
    "ax.grid(False)\n",
    "# plt.xlabel(\"Efficiency Gap Score\")\n",
    "# plt.ylabel(\"Frequency\")\n",
    "save_with_pretty_fonts(\"pa_eg.svg\")"
   ]
  },
  {
   "cell_type": "code",
   "execution_count": 287,
   "metadata": {},
   "outputs": [],
   "source": [
    "# Pennsylvania Cut Edges Scores\n",
    "\n",
    "plt.rcParams[\"svg.fonttype\"] = \"none\"\n",
    "fig, ax = plt.subplots(1)\n",
    "sns.distplot(ces, bins=40, color=\"#4b89b9\", ax=ax, kde=False)\n",
    "ax.set_yticklabels([])\n",
    "ax.axvline(x=1500, color=\"red\")\n",
    "ax.yaxis.set_visible(False)\n",
    "ax.grid(False)\n",
    "# plt.xlabel(\"Cut Edges\")\n",
    "# plt.ylabel(\"Frequency\")\n",
    "save_with_pretty_fonts(\"pa_ce.svg\")"
   ]
  },
  {
   "cell_type": "code",
   "execution_count": 288,
   "metadata": {},
   "outputs": [],
   "source": [
    "# People's heights histogram: vs. NBA players\n",
    "\n",
    "n = 1000000\n",
    "male_heights = (70 + 4 * np.random.randn(n)) / 12\n",
    "female_heights = (65 + 3.5 * np.random.randn(n)) / 12\n",
    "all_heights = np.concatenate((male_heights, female_heights), axis=0)\n",
    "nba_heights = (79 + 3.5 * np.random.randn(2*n)) / 12\n",
    "\n",
    "plt.rcParams['svg.fonttype'] = 'none'\n",
    "fig, ax = plt.subplots(1)\n",
    "# sns.distplot(male_heights, bins=100, color='#4b89b9', ax=ax, kde=False)\n",
    "# sns.distplot(female_heights, bins=100, color='#d2553e', ax=ax, kde=False)\n",
    "sns.distplot(all_heights, bins=100, color='#4b89b9', ax=ax, kde=False, label=\"all people\")\n",
    "sns.distplot(nba_heights, bins=100, color=\"red\", ax=ax, kde=False, label=\"NBA players\")\n",
    "ax.set_yticklabels([])\n",
    "ax.yaxis.set_visible(False)\n",
    "ax.grid(False)\n",
    "plt.xlim(3, 8)\n",
    "ax.axvline(x=7, color=\"red\", label=\"Your Friend's Height\")\n",
    "# ax.legend(loc=\"upper left\")\n",
    "# plt.xlabel('Height (feet)')\n",
    "save_with_pretty_fonts(\"people_vs_nba_heights.svg\")"
   ]
  },
  {
   "cell_type": "code",
   "execution_count": null,
   "metadata": {},
   "outputs": [],
   "source": []
  }
 ],
 "metadata": {
  "kernelspec": {
   "display_name": "Python 3",
   "language": "python",
   "name": "python3"
  },
  "language_info": {
   "codemirror_mode": {
    "name": "ipython",
    "version": 3
   },
   "file_extension": ".py",
   "mimetype": "text/x-python",
   "name": "python",
   "nbconvert_exporter": "python",
   "pygments_lexer": "ipython3",
   "version": "3.7.3"
  }
 },
 "nbformat": 4,
 "nbformat_minor": 2
}
